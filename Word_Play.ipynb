{
 "cells": [
  {
   "cell_type": "code",
   "execution_count": 13,
   "metadata": {
    "collapsed": true
   },
   "outputs": [],
   "source": [
    "fin = open('words.txt')"
   ]
  },
  {
   "cell_type": "code",
   "execution_count": 14,
   "metadata": {
    "collapsed": false
   },
   "outputs": [
    {
     "name": "stdout",
     "output_type": "stream",
     "text": [
      "counterdemonstration\n",
      "counterdemonstrations\n",
      "counterdemonstrators\n",
      "hyperaggressivenesses\n",
      "hypersensitivenesses\n",
      "microminiaturization\n",
      "microminiaturizations\n",
      "representativenesses\n"
     ]
    }
   ],
   "source": [
    "# > 20 char\n",
    "\n",
    "lines = fin.readlines()\n",
    "for line in lines:\n",
    "    word = line.strip()\n",
    "    if len(word) >= 20:\n",
    "        print(word)"
   ]
  },
  {
   "cell_type": "code",
   "execution_count": 17,
   "metadata": {
    "collapsed": false
   },
   "outputs": [],
   "source": [
    "def has_no_e(s):\n",
    "    flag = True\n",
    "    for i in s:\n",
    "        if i == 'e':\n",
    "            return False\n",
    "    return True"
   ]
  },
  {
   "cell_type": "code",
   "execution_count": 19,
   "metadata": {
    "collapsed": false
   },
   "outputs": [
    {
     "data": {
      "text/plain": [
       "False"
      ]
     },
     "execution_count": 19,
     "metadata": {},
     "output_type": "execute_result"
    }
   ],
   "source": [
    "has_no_e('adfasdfesdf')"
   ]
  },
  {
   "cell_type": "code",
   "execution_count": 24,
   "metadata": {
    "collapsed": false
   },
   "outputs": [
    {
     "name": "stdout",
     "output_type": "stream",
     "text": [
      "113809\n",
      "0.3307383423103621\n"
     ]
    }
   ],
   "source": [
    "fin = open('words.txt')\n",
    "lines = fin.readlines()\n",
    "n = len(lines)\n",
    "print(n)\n",
    "no_e_count = 0\n",
    "for line in lines:\n",
    "    word = line.strip()\n",
    "    if has_no_e(word):\n",
    "        #print(word)\n",
    "        no_e_count+=1\n",
    "ratio = no_e_count/n\n",
    "print(ratio)\n",
    "        "
   ]
  },
  {
   "cell_type": "code",
   "execution_count": 57,
   "metadata": {
    "collapsed": false
   },
   "outputs": [],
   "source": [
    "def avoid(s, forbidden):\n",
    "    new_s = s\n",
    "    for i in forbidden:\n",
    "        new_s = new_s.replace(i, ' ')\n",
    "    return s == new_s\n"
   ]
  },
  {
   "cell_type": "code",
   "execution_count": 58,
   "metadata": {
    "collapsed": false
   },
   "outputs": [
    {
     "data": {
      "text/plain": [
       "False"
      ]
     },
     "execution_count": 58,
     "metadata": {},
     "output_type": "execute_result"
    }
   ],
   "source": [
    "avoid('aa', 'aeiou')"
   ]
  },
  {
   "cell_type": "code",
   "execution_count": 110,
   "metadata": {
    "collapsed": false
   },
   "outputs": [],
   "source": [
    "def forbidden_letters(word_file, forbidden):\n",
    "    fin = open(word_file)\n",
    "    lines = fin.readlines()\n",
    "    n = len(lines)\n",
    "    allowed_words =[]\n",
    "    allowed_words_count = 0\n",
    "    for line in lines:\n",
    "        word = line.strip()\n",
    "        if avoid(word, forbidden):\n",
    "            #print(word)\n",
    "            allowed_words_count += 1\n",
    "            allowed_words.append(word)\n",
    "    #ratio = allowed_words_count/n*100\n",
    "    #print(r\"Number of words: %i, Number of allowed words: %i, Percentage of words allowed: %i%%\" %(n, allowed_words_count, ratio))\n",
    "    #print(allowed_words)\n",
    "    return allowed_words_count"
   ]
  },
  {
   "cell_type": "code",
   "execution_count": 111,
   "metadata": {
    "collapsed": false
   },
   "outputs": [
    {
     "data": {
      "text/plain": [
       "53"
      ]
     },
     "execution_count": 111,
     "metadata": {},
     "output_type": "execute_result"
    }
   ],
   "source": [
    "forbidden_letters('words.txt', 'eom')"
   ]
  },
  {
   "cell_type": "code",
   "execution_count": 112,
   "metadata": {
    "collapsed": false
   },
   "outputs": [
    {
     "data": {
      "text/plain": [
       "107"
      ]
     },
     "execution_count": 112,
     "metadata": {},
     "output_type": "execute_result"
    }
   ],
   "source": [
    "forbidden_letters('words2.txt', 'aeiou')"
   ]
  },
  {
   "cell_type": "code",
   "execution_count": 120,
   "metadata": {
    "collapsed": false
   },
   "outputs": [
    {
     "data": {
      "text/plain": [
       "'aa'"
      ]
     },
     "execution_count": 120,
     "metadata": {},
     "output_type": "execute_result"
    }
   ],
   "source": [
    "# find 5 letters that are required in the most words\n",
    "file = 'words.txt'\n",
    "alphabet = 'abcdefghijklmnopqrstuvwxyz'\n",
    "tmp_allowed_words_count = 0\n",
    "min_allowed_words_count = 107\n",
    "best_letters = ''\n",
    "for i in alphabet:\n",
    "    for j in alphabet:\n",
    "        tmp_allowed_words_count = forbidden_letters(file,i+j)\n",
    "        if min_allowed_words_count > tmp_allowed_words_count:\n",
    "            min_allowed_words_count = tmp_allowed_words_count\n",
    "            best_letters = i+j\n",
    "best_letters\n",
    "            \n",
    "        "
   ]
  },
  {
   "cell_type": "code",
   "execution_count": 11,
   "metadata": {
    "collapsed": false
   },
   "outputs": [],
   "source": [
    "def uses_only(word, s):\n",
    "    for i in word:\n",
    "        if i not in s:\n",
    "            return False\n",
    "    return True"
   ]
  },
  {
   "cell_type": "code",
   "execution_count": 12,
   "metadata": {
    "collapsed": false
   },
   "outputs": [
    {
     "data": {
      "text/plain": [
       "False"
      ]
     },
     "execution_count": 12,
     "metadata": {},
     "output_type": "execute_result"
    }
   ],
   "source": [
    "uses_only('adfasfasfspd', 'adfadsfasdfasdffgrgsfasfsd')"
   ]
  },
  {
   "cell_type": "code",
   "execution_count": 13,
   "metadata": {
    "collapsed": true
   },
   "outputs": [],
   "source": [
    "def words_using_letters(word_file, letters):\n",
    "    fin = open(word_file)\n",
    "    lines = fin.readlines()\n",
    "    n = len(lines)\n",
    "    allowed_words =[]\n",
    "    allowed_words_count = 0\n",
    "    for line in lines:\n",
    "        word = line.strip()\n",
    "        if uses_only(word, letters):\n",
    "            allowed_words_count += 1\n",
    "            allowed_words.append(word)\n",
    "    return(allowed_words)"
   ]
  },
  {
   "cell_type": "code",
   "execution_count": 15,
   "metadata": {
    "collapsed": false
   },
   "outputs": [
    {
     "data": {
      "text/plain": [
       "['aa',\n",
       " 'aal',\n",
       " 'ae',\n",
       " 'ala',\n",
       " 'alae',\n",
       " 'alan',\n",
       " 'alane',\n",
       " 'ale',\n",
       " 'alee',\n",
       " 'all',\n",
       " 'allele',\n",
       " 'an',\n",
       " 'ana',\n",
       " 'anal',\n",
       " 'ane',\n",
       " 'anele',\n",
       " 'anna',\n",
       " 'annal',\n",
       " 'anneal',\n",
       " 'eel',\n",
       " 'el',\n",
       " 'elan',\n",
       " 'ell',\n",
       " 'en',\n",
       " 'la',\n",
       " 'lall',\n",
       " 'lallan',\n",
       " 'lane',\n",
       " 'lea',\n",
       " 'leal',\n",
       " 'lean',\n",
       " 'lee',\n",
       " 'na',\n",
       " 'nae',\n",
       " 'nana',\n",
       " 'nee',\n",
       " 'nene']"
      ]
     },
     "execution_count": 15,
     "metadata": {},
     "output_type": "execute_result"
    }
   ],
   "source": [
    "words_using_letters('words2.txt','aenl')"
   ]
  },
  {
   "cell_type": "code",
   "execution_count": 2,
   "metadata": {
    "collapsed": true
   },
   "outputs": [],
   "source": [
    "def uses_all(word, s):\n",
    "    letters_set = set(s)\n",
    "    letters_used = set({})\n",
    "    for i in word:\n",
    "        for j in letters_set:\n",
    "            if i == j:\n",
    "                letters_used.add(j)\n",
    "    return letters_set == letters_used"
   ]
  },
  {
   "cell_type": "code",
   "execution_count": 18,
   "metadata": {
    "collapsed": false
   },
   "outputs": [
    {
     "name": "stdout",
     "output_type": "stream",
     "text": [
      "{'d', 'a', 'f'}\n",
      "{'d', 'f'}\n"
     ]
    },
    {
     "data": {
      "text/plain": [
       "{'b', 'd', 'f'}"
      ]
     },
     "execution_count": 18,
     "metadata": {},
     "output_type": "execute_result"
    }
   ],
   "source": [
    "s = 'adfdf'\n",
    "y = set(s)\n",
    "print(y)\n",
    "y.remove('a')\n",
    "print(y)\n",
    "y.add('b')\n",
    "y"
   ]
  },
  {
   "cell_type": "code",
   "execution_count": 19,
   "metadata": {
    "collapsed": false
   },
   "outputs": [
    {
     "data": {
      "text/plain": [
       "True"
      ]
     },
     "execution_count": 19,
     "metadata": {},
     "output_type": "execute_result"
    }
   ],
   "source": [
    "uses_all('sdafsafsegk', 'sdfa')"
   ]
  },
  {
   "cell_type": "code",
   "execution_count": 31,
   "metadata": {
    "collapsed": false
   },
   "outputs": [],
   "source": [
    "def words_using_all_letters(word_file, letters):\n",
    "    fin = open(word_file)\n",
    "    lines = fin.readlines()\n",
    "    n = len(lines)\n",
    "    print(n)\n",
    "    allowed_words =[]\n",
    "    allowed_words_count = 0\n",
    "    for line in lines:\n",
    "        #word = line.split('/')[0]\n",
    "        word = line.strip()\n",
    "        if uses_all(word, letters):\n",
    "            allowed_words_count += 1\n",
    "            allowed_words.append(word)\n",
    "    print(\"Nombre de mots: %i\" %len(allowed_words))\n",
    "    print(allowed_words)"
   ]
  },
  {
   "cell_type": "code",
   "execution_count": 32,
   "metadata": {
    "collapsed": false
   },
   "outputs": [
    {
     "name": "stdout",
     "output_type": "stream",
     "text": [
      "113809\n",
      "Nombre de mots: 42\n",
      "['abstemiously', 'adventitiously', 'aeronautically', 'ambidextrously', 'antievolutionary', 'antirevolutionary', 'antiunemployment', 'authoritatively', 'autotypies', 'buoyancies', 'counterinflationary', 'evolutionary', 'extracommunity', 'facetiously', 'genitourinary', 'gregariously', 'hyperanxious', 'hypercautious', 'hyperfastidious', 'inconsequentially', 'instantaneously', 'intravenously', 'mendaciously', 'miscellaneously', 'nefariously', 'neurologically', 'neurotically', 'ostentatiously', 'outwearying', 'postrevolutionary', 'precariously', 'precautionary', 'prerevolutionary', 'revolutionary', 'sacrilegiously', 'simultaneously', 'tenaciously', 'uncomplimentary', 'unconventionally', 'unequivocally', 'unintentionally', 'unquestionably']\n"
     ]
    }
   ],
   "source": [
    "words_using_all_letters('words2.txt', 'aeiouy')"
   ]
  },
  {
   "cell_type": "code",
   "execution_count": 22,
   "metadata": {
    "collapsed": false
   },
   "outputs": [],
   "source": [
    "def is_abecedarian(s):\n",
    "    for i in range(len(s)-1):\n",
    "        if s[i] > s[i+1]:\n",
    "            return False\n",
    "    return True"
   ]
  },
  {
   "cell_type": "code",
   "execution_count": 23,
   "metadata": {
    "collapsed": false
   },
   "outputs": [
    {
     "data": {
      "text/plain": [
       "'asdfs'"
      ]
     },
     "execution_count": 23,
     "metadata": {},
     "output_type": "execute_result"
    }
   ],
   "source": [
    "max(['asdfs', 'asdf', 'asdfasf'])"
   ]
  },
  {
   "cell_type": "code",
   "execution_count": 24,
   "metadata": {
    "collapsed": false
   },
   "outputs": [
    {
     "data": {
      "text/plain": [
       "False"
      ]
     },
     "execution_count": 24,
     "metadata": {},
     "output_type": "execute_result"
    }
   ],
   "source": [
    "is_abecedarian('abcda')"
   ]
  },
  {
   "cell_type": "code",
   "execution_count": 236,
   "metadata": {
    "collapsed": true
   },
   "outputs": [],
   "source": [
    "def abecedarian_words(word_file):\n",
    "    fin = open(word_file)\n",
    "    lines = fin.readlines()\n",
    "    n = len(lines)\n",
    "    print(n)\n",
    "    allowed_words =[]\n",
    "    allowed_words_count = 0\n",
    "    for line in lines:\n",
    "        word = line.strip()\n",
    "        if is_abecedarian(word):\n",
    "            allowed_words_count += 1\n",
    "            allowed_words.append(word)\n",
    "    print(\"Nombre de mots: %i\" %len(allowed_words))\n",
    "    print(allowed_words)"
   ]
  },
  {
   "cell_type": "code",
   "execution_count": 238,
   "metadata": {
    "collapsed": true
   },
   "outputs": [
    {
     "name": "stdout",
     "output_type": "stream",
     "text": [
      "113809\n",
      "Nombre de mots: 596\n",
      "['aa', 'aah', 'aahs', 'aal', 'aals', 'aas', 'abbe', 'abbes', 'abbess', 'abbey', 'abbot', 'abet', 'abhor', 'abhors', 'ably', 'abo', 'abort', 'abos', 'abuzz', 'aby', 'accent', 'accept', 'access', 'accost', 'ace', 'acers', 'aces', 'achoo', 'achy', 'act', 'ad', 'add', 'adder', 'adders', 'adds', 'adeem', 'adeems', 'adept', 'adios', 'adit', 'ado', 'adopt', 'ados', 'ads', 'adz', 'ae', 'aegis', 'aery', 'aff', 'affix', 'afflux', 'afoot', 'aft', 'agin', 'agio', 'agios', 'agist', 'aglow', 'agly', 'ago', 'ah', 'ahoy', 'ai', 'ail', 'ails', 'aim', 'aims', 'ain', 'ains', 'air', 'airs', 'airt', 'airy', 'ais', 'ait', 'all', 'allot', 'allow', 'alloy', 'alls', 'ally', 'almost', 'alms', 'alow', 'alp', 'alps', 'alt', 'am', 'ammo', 'ammos', 'amort', 'amp', 'amps', 'amu', 'an', 'annoy', 'ant', 'any', 'apt', 'ar', 'ars', 'art', 'arty', 'as', 'ass', 'at', 'aw', 'ay', 'be', 'bee', 'beef', 'beefily', 'beefs', 'beefy', 'been', 'beep', 'beeps', 'beer', 'beers', 'beery', 'bees', 'beet', 'befit', 'beg', 'begin', 'begins', 'begirt', 'begot', 'begs', 'beknot', 'bel', 'bell', 'bellow', 'bells', 'belly', 'below', 'bels', 'belt', 'ben', 'benny', 'bens', 'bent', 'berry', 'best', 'bet', 'bevy', 'bey', 'bhoot', 'bi', 'bijou', 'bijoux', 'bill', 'billow', 'billowy', 'bills', 'billy', 'bin', 'bins', 'bint', 'bio', 'biopsy', 'bios', 'birr', 'birrs', 'bis', 'bit', 'bitt', 'bitty', 'bloop', 'bloops', 'blot', 'blotty', 'blow', 'blowy', 'bo', 'boo', 'boor', 'boors', 'boos', 'boost', 'boot', 'booty', 'bop', 'bops', 'bort', 'borty', 'bortz', 'bos', 'boss', 'bossy', 'bot', 'bott', 'bow', 'box', 'boxy', 'boy', 'buy', 'buzz', 'by', 'cee', 'cees', 'ceil', 'ceils', 'cell', 'cello', 'cellos', 'cells', 'celt', 'cent', 'cess', 'chi', 'chill', 'chills', 'chilly', 'chimp', 'chimps', 'chin', 'chino', 'chinos', 'chins', 'chintz', 'chip', 'chippy', 'chips', 'chirr', 'chirrs', 'chis', 'chit', 'chitty', 'chivvy', 'chivy', 'choosy', 'chop', 'choppy', 'chops', 'chott', 'chow', 'cist', 'city', 'civvy', 'cloot', 'clop', 'clops', 'clot', 'clotty', 'cloy', 'coo', 'coop', 'coops', 'coopt', 'coos', 'coot', 'cop', 'cops', 'copy', 'cos', 'coss', 'cost', 'cosy', 'cot', 'cow', 'cowy', 'cox', 'coy', 'coz', 'crux', 'cry', 'de', 'dee', 'deem', 'deems', 'deep', 'deeps', 'deer', 'deers', 'dees', 'defi', 'defis', 'deft', 'defy', 'dehort', 'dei', 'deil', 'deils', 'deist', 'deity', 'del', 'dell', 'dells', 'delly', 'dels', 'demo', 'demos', 'demy', 'den', 'dens', 'dent', 'deny', 'derry', 'des', 'dev', 'dew', 'dewy', 'dex', 'dey', 'dhow', 'dill', 'dills', 'dilly', 'dim', 'dims', 'din', 'dins', 'dint', 'dip', 'dippy', 'dips', 'dipt', 'dirt', 'dirty', 'dit', 'ditty', 'divvy', 'do', 'door', 'doors', 'dopy', 'dor', 'dorr', 'dorrs', 'dors', 'dorty', 'dory', 'dos', 'doss', 'dost', 'dot', 'dotty', 'doty', 'dow', 'doxy', 'dry', 'eel', 'eels', 'eely', 'eery', 'ef', 'eff', 'efflux', 'effort', 'effs', 'efs', 'eft', 'egg', 'eggs', 'egis', 'ego', 'egos', 'eh', 'el', 'ell', 'ells', 'elm', 'elms', 'elmy', 'els', 'em', 'empty', 'ems', 'emu', 'en', 'enow', 'ens', 'envy', 'er', 'err', 'errs', 'ers', 'erst', 'es', 'ess', 'et', 'ex', 'fil', 'fill', 'fills', 'filly', 'film', 'films', 'filmy', 'fils', 'fin', 'finny', 'fins', 'fir', 'firry', 'firs', 'first', 'fist', 'fisty', 'fit', 'fix', 'fiz', 'fizz', 'floor', 'floors', 'floosy', 'flop', 'floppy', 'flops', 'floss', 'flossy', 'flow', 'flu', 'flux', 'fly', 'foot', 'footy', 'fop', 'fops', 'for', 'fort', 'forty', 'foss', 'fou', 'fox', 'foxy', 'foy', 'fry', 'fuzz', 'ghi', 'ghis', 'ghost', 'ghosty', 'gill', 'gills', 'gilly', 'gilt', 'gimp', 'gimps', 'gimpy', 'gin', 'ginny', 'gins', 'gip', 'gips', 'gipsy', 'girt', 'gist', 'git', 'glop', 'glops', 'glory', 'gloss', 'glossy', 'glost', 'glow', 'gnu', 'go', 'goo', 'goop', 'goops', 'goos', 'goosy', 'gor', 'gorsy', 'gory', 'got', 'gox', 'goy', 'guy', 'hi', 'hill', 'hillo', 'hillos', 'hills', 'hilly', 'hilt', 'him', 'hin', 'hinny', 'hins', 'hint', 'hip', 'hippy', 'hips', 'his', 'hiss', 'hist', 'hit', 'ho', 'hoop', 'hoops', 'hoot', 'hooty', 'hop', 'hops', 'horst', 'horsy', 'host', 'hot', 'how', 'hoy', 'ill', 'ills', 'illy', 'immy', 'imp', 'imps', 'in', 'inn', 'inns', 'ins', 'is', 'it', 'ivy', 'jo', 'joss', 'jot', 'jotty', 'jow', 'joy', 'knop', 'knops', 'knot', 'knotty', 'know', 'kop', 'kops', 'kor', 'kors', 'kos', 'koss', 'lo', 'loo', 'loop', 'loops', 'loopy', 'loos', 'loot', 'lop', 'loppy', 'lops', 'lorry', 'lory', 'loss', 'lossy', 'lost', 'lot', 'low', 'lox', 'lux', 'moo', 'moor', 'moors', 'moory', 'moos', 'moot', 'mop', 'mops', 'mor', 'mors', 'mort', 'moss', 'mossy', 'most', 'mot', 'mott', 'mow', 'mu', 'my', 'no', 'noo', 'nor', 'nos', 'nosy', 'not', 'now', 'nu', 'oops', 'oot', 'op', 'ops', 'opt', 'or', 'ors', 'ort', 'os', 'ow', 'ox', 'oxy', 'oy', 'pry', 'psst', 'sty', 'tux']\n"
     ]
    }
   ],
   "source": [
    "abecedarian_words('words2.txt')"
   ]
  },
  {
   "cell_type": "code",
   "execution_count": 12,
   "metadata": {
    "collapsed": false
   },
   "outputs": [],
   "source": [
    "def has_n_doubles(s, n):\n",
    "    #print(s, n)\n",
    "    if n == 0:\n",
    "        return True\n",
    "    elif len(s) == 1:\n",
    "        return n == 0\n",
    "    elif len(s)==2:\n",
    "        if s[0]==s[1]:\n",
    "            return (n-1)==0\n",
    "        else:\n",
    "            return n==0\n",
    "    else:\n",
    "        if s[0]==s[1]:\n",
    "            return has_3_consecutives_doubles(s[2:], n-1)\n",
    "        else:\n",
    "            return has_3_consecutives_doubles(s[1:], n)"
   ]
  },
  {
   "cell_type": "code",
   "execution_count": 27,
   "metadata": {
    "collapsed": false
   },
   "outputs": [],
   "source": [
    "def has_3_consecutives_doubles(s):\n",
    "    for i in range(len(s)-1):\n",
    "        if s[i]==s[i+1]:\n",
    "            if len(s)-i<6:\n",
    "                return False\n",
    "            elif s[i+2] == s[i+3] and s[i+4] == s[i+5]:\n",
    "                return True\n",
    "    return False\n"
   ]
  },
  {
   "cell_type": "code",
   "execution_count": 30,
   "metadata": {
    "collapsed": false
   },
   "outputs": [
    {
     "data": {
      "text/plain": [
       "True"
      ]
     },
     "execution_count": 30,
     "metadata": {},
     "output_type": "execute_result"
    }
   ],
   "source": [
    "has_3_consecutives_doubles('kaabbddd')"
   ]
  },
  {
   "cell_type": "code",
   "execution_count": 14,
   "metadata": {
    "collapsed": true
   },
   "outputs": [],
   "source": [
    "def find3doubleword(word_file):\n",
    "    fin = open(word_file)\n",
    "    lines = fin.readlines()\n",
    "    n = len(lines)\n",
    "    print(n)\n",
    "    allowed_words =[]\n",
    "    allowed_words_count = 0\n",
    "    for line in lines:\n",
    "        word = line.strip()\n",
    "        if has_n_doubles(word, 3):\n",
    "            allowed_words_count += 1\n",
    "            allowed_words.append(word)\n",
    "    print(\"Nombre de mots: %i\" %len(allowed_words))\n",
    "    print(allowed_words)"
   ]
  },
  {
   "cell_type": "code",
   "execution_count": 15,
   "metadata": {
    "collapsed": false
   },
   "outputs": [
    {
     "name": "stdout",
     "output_type": "stream",
     "text": [
      "113809\n",
      "Nombre de mots: 46\n",
      "['aggressiveness', 'aggressivenesses', 'allottee', 'allottees', 'appellee', 'appellees', 'barrenness', 'barrennesses', 'bookkeeper', 'bookkeepers', 'bookkeeping', 'bookkeepings', 'cheerlessness', 'cheerlessnesses', 'committee', 'committees', 'greenness', 'greennesses', 'heedlessness', 'heedlessnesses', 'heelless', 'hyperaggressiveness', 'hyperaggressivenesses', 'keelless', 'keenness', 'keennesses', 'masslessness', 'masslessnesses', 'possessiveness', 'possessivenesses', 'rottenness', 'rottennesses', 'sleeplessness', 'stubbornness', 'stubbornnesses', 'successfully', 'suddenness', 'suddennesses', 'sullenness', 'sullennesses', 'toolless', 'wheelless', 'whippoorwill', 'whippoorwills', 'woodenness', 'woodennesses']\n"
     ]
    }
   ],
   "source": [
    "find3doubleword('words2.txt')"
   ]
  },
  {
   "cell_type": "code",
   "execution_count": 43,
   "metadata": {
    "collapsed": false
   },
   "outputs": [],
   "source": [
    "def find3consecutivedoubleword(word_file):\n",
    "    fin = open(word_file)\n",
    "    lines = fin.readlines()\n",
    "    n = len(lines)\n",
    "    print(n)\n",
    "    allowed_words =[]\n",
    "    allowed_words_count = 0\n",
    "    for line in lines:\n",
    "        word = line.strip()\n",
    "        #word = line.split('/')[0]    #french file\n",
    "        if has_3_consecutives_doubles(word):\n",
    "            allowed_words_count += 1\n",
    "            allowed_words.append(word)\n",
    "    print(\"Nombre de mots: %i\" %len(allowed_words))\n",
    "    print(allowed_words)"
   ]
  },
  {
   "cell_type": "code",
   "execution_count": 45,
   "metadata": {
    "collapsed": false
   },
   "outputs": [
    {
     "name": "stdout",
     "output_type": "stream",
     "text": [
      "113809\n",
      "Nombre de mots: 4\n",
      "['bookkeeper', 'bookkeepers', 'bookkeeping', 'bookkeepings']\n"
     ]
    }
   ],
   "source": [
    "find3consecutivedoubleword('words2.txt')"
   ]
  },
  {
   "cell_type": "code",
   "execution_count": 51,
   "metadata": {
    "collapsed": true
   },
   "outputs": [],
   "source": [
    "def find3consecutivedoubleword(word_file):\n",
    "    fin = open(word_file, encoding='UT8')\n",
    "    lines = fin.readlines()\n",
    "    n = len(lines)\n",
    "    print(n)\n",
    "    allowed_words =[]\n",
    "    allowed_words_count = 0\n",
    "    for line in lines:\n",
    "        word = line.split('/')[0]\n",
    "        print(word)\n",
    "        if has_3_consecutives_doubles(word):\n",
    "            allowed_words_count += 1\n",
    "            allowed_words.append(word)\n",
    "    print(\"Nombre de mots: %i\" %len(allowed_words))\n",
    "    print(allowed_words)"
   ]
  },
  {
   "cell_type": "code",
   "execution_count": 52,
   "metadata": {
    "collapsed": false
   },
   "outputs": [
    {
     "ename": "LookupError",
     "evalue": "unknown encoding: UT8",
     "output_type": "error",
     "traceback": [
      "\u001b[0;31m---------------------------------------------------------------------------\u001b[0m",
      "\u001b[0;31mLookupError\u001b[0m                               Traceback (most recent call last)",
      "\u001b[0;32m<ipython-input-52-30d8618234f1>\u001b[0m in \u001b[0;36m<module>\u001b[0;34m()\u001b[0m\n\u001b[0;32m----> 1\u001b[0;31m \u001b[0mfind3consecutivedoubleword\u001b[0m\u001b[0;34m(\u001b[0m\u001b[0;34m'words_Francais_short.txt'\u001b[0m\u001b[0;34m)\u001b[0m\u001b[0;34m\u001b[0m\u001b[0m\n\u001b[0m",
      "\u001b[0;32m<ipython-input-51-df219f1f79bf>\u001b[0m in \u001b[0;36mfind3consecutivedoubleword\u001b[0;34m(word_file)\u001b[0m\n\u001b[1;32m      1\u001b[0m \u001b[0;32mdef\u001b[0m \u001b[0mfind3consecutivedoubleword\u001b[0m\u001b[0;34m(\u001b[0m\u001b[0mword_file\u001b[0m\u001b[0;34m)\u001b[0m\u001b[0;34m:\u001b[0m\u001b[0;34m\u001b[0m\u001b[0m\n\u001b[0;32m----> 2\u001b[0;31m     \u001b[0mfin\u001b[0m \u001b[0;34m=\u001b[0m \u001b[0mopen\u001b[0m\u001b[0;34m(\u001b[0m\u001b[0mword_file\u001b[0m\u001b[0;34m,\u001b[0m \u001b[0mencoding\u001b[0m\u001b[0;34m=\u001b[0m\u001b[0;34m'UT8'\u001b[0m\u001b[0;34m)\u001b[0m\u001b[0;34m\u001b[0m\u001b[0m\n\u001b[0m\u001b[1;32m      3\u001b[0m     \u001b[0mlines\u001b[0m \u001b[0;34m=\u001b[0m \u001b[0mfin\u001b[0m\u001b[0;34m.\u001b[0m\u001b[0mreadlines\u001b[0m\u001b[0;34m(\u001b[0m\u001b[0;34m)\u001b[0m\u001b[0;34m\u001b[0m\u001b[0m\n\u001b[1;32m      4\u001b[0m     \u001b[0mn\u001b[0m \u001b[0;34m=\u001b[0m \u001b[0mlen\u001b[0m\u001b[0;34m(\u001b[0m\u001b[0mlines\u001b[0m\u001b[0;34m)\u001b[0m\u001b[0;34m\u001b[0m\u001b[0m\n\u001b[1;32m      5\u001b[0m     \u001b[0mprint\u001b[0m\u001b[0;34m(\u001b[0m\u001b[0mn\u001b[0m\u001b[0;34m)\u001b[0m\u001b[0;34m\u001b[0m\u001b[0m\n",
      "\u001b[0;31mLookupError\u001b[0m: unknown encoding: UT8"
     ]
    }
   ],
   "source": [
    "find3consecutivedoubleword('words_Francais_short.txt')"
   ]
  },
  {
   "cell_type": "code",
   "execution_count": 70,
   "metadata": {
    "collapsed": true
   },
   "outputs": [],
   "source": [
    "def is_palindrome(i):\n",
    "    u = str(i)\n",
    "    s=''\n",
    "    for k in u:\n",
    "        s = s+k\n",
    "    return s == s[-1::-1]"
   ]
  },
  {
   "cell_type": "code",
   "execution_count": 72,
   "metadata": {
    "collapsed": false
   },
   "outputs": [
    {
     "data": {
      "text/plain": [
       "True"
      ]
     },
     "execution_count": 72,
     "metadata": {},
     "output_type": "execute_result"
    }
   ],
   "source": [
    "is_palindrome(452254)"
   ]
  },
  {
   "cell_type": "code",
   "execution_count": 87,
   "metadata": {
    "collapsed": false
   },
   "outputs": [
    {
     "name": "stdout",
     "output_type": "stream",
     "text": [
      "198888\n",
      "198889\n",
      "198890\n",
      "198891\n",
      "199999\n",
      "200000\n",
      "200001\n",
      "200002\n"
     ]
    }
   ],
   "source": [
    "i=100000\n",
    "while i <= 199999:\n",
    "    if is_palindrome(str(i)[2:]):\n",
    "        if is_palindrome(str(i+1)[1:]):\n",
    "            if is_palindrome(str(i+2)[1:-1]):\n",
    "                if is_palindrome(str(i+3)[:]):\n",
    "                    print(i)\n",
    "                    print(i+1)\n",
    "                    print(i+2)\n",
    "                    print(i+3)\n",
    "    i+=1"
   ]
  },
  {
   "cell_type": "code",
   "execution_count": 88,
   "metadata": {
    "collapsed": false
   },
   "outputs": [
    {
     "name": "stdout",
     "output_type": "stream",
     "text": [
      "Help on method_descriptor:\n",
      "\n",
      "zfill(...)\n",
      "    S.zfill(width) -> str\n",
      "    \n",
      "    Pad a numeric string S with zeros on the left, to fill a field\n",
      "    of the specified width. The string S is never truncated.\n",
      "\n"
     ]
    }
   ],
   "source": [
    "help(str.zfill)"
   ]
  },
  {
   "cell_type": "code",
   "execution_count": 90,
   "metadata": {
    "collapsed": false
   },
   "outputs": [
    {
     "data": {
      "text/plain": [
       "'0078'"
      ]
     },
     "execution_count": 90,
     "metadata": {},
     "output_type": "execute_result"
    }
   ],
   "source": [
    "'78'.zfill(4)"
   ]
  },
  {
   "cell_type": "code",
   "execution_count": 110,
   "metadata": {
    "collapsed": true
   },
   "outputs": [
    {
     "name": "stdout",
     "output_type": "stream",
     "text": [
      "2\n",
      "13\n",
      "24\n",
      "35\n",
      "46\n",
      "57\n",
      "68\n",
      "79\n",
      "Age difference: 18 - #occurences: 8\n",
      "3\n",
      "14\n",
      "25\n",
      "36\n",
      "47\n",
      "58\n",
      "69\n",
      "4\n",
      "15\n",
      "26\n",
      "37\n",
      "48\n",
      "59\n",
      "5\n",
      "16\n",
      "27\n",
      "38\n",
      "49\n",
      "6\n",
      "17\n",
      "28\n",
      "39\n",
      "7\n",
      "18\n",
      "29\n",
      "8\n",
      "19\n",
      "9\n"
     ]
    }
   ],
   "source": [
    "for diff in range(14, 100):   #diff is the difference in age between the 2 people\n",
    "    accu = 0\n",
    "    for i in range(90):      #i age of the grandson\n",
    "        if str(i).zfill(2) == str(i+diff).zfill(2)[-1::-1]:\n",
    "            print(i)\n",
    "            accu+=1\n",
    "    if accu >= 8:\n",
    "        print(\"Age difference: %i - #occurences: %i\" %(diff, accu))\n",
    "    "
   ]
  },
  {
   "cell_type": "code",
   "execution_count": 97,
   "metadata": {
    "collapsed": false
   },
   "outputs": [
    {
     "data": {
      "text/plain": [
       "'34'"
      ]
     },
     "execution_count": 97,
     "metadata": {},
     "output_type": "execute_result"
    }
   ],
   "source": [
    "i=3\n",
    "diff=40\n",
    "str(i+diff).zfill(2)[-1::-1]\n",
    "\n"
   ]
  }
 ],
 "metadata": {
  "kernelspec": {
   "display_name": "Python 3",
   "language": "python",
   "name": "python3"
  }
 },
 "nbformat": 4,
 "nbformat_minor": 2
}
